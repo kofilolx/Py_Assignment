{
 "cells": [
  {
   "cell_type": "markdown",
   "metadata": {},
   "source": [
    "# Numerical Solution of the Schrödinger Equation \n",
    "\n",
    "Name: KOTEY Jonathan Nikoi\n",
    "\n",
    "Index: 9452519\n",
    "\n",
    "Programme: BSC. PHYSICS with Computing Option\n",
    "\n",
    "Date: "
   ]
  },
  {
   "cell_type": "markdown",
   "metadata": {},
   "source": [
    "### Content\n",
    "\n",
    "* [Content](#Content)\n",
    "\n",
    "* [Background...](#Background...)\n",
    "\n",
    "    * [Introduction to Computational Physics](#Introduction-to-Computational-Physics)\n",
    "\n",
    "    * [Task](#Task)\n",
    "\n",
    "    * [Objectives](#Objectives)\n",
    "    \n",
    "* [Numerical solution of the Schrödinger equation](#Numerical-solution-of-the-Schrödinger-equation)\n",
    "    * [Method](#Method)\n",
    "        * [Finite Difference Method](#Finite-Difference-Method)\n",
    "\n",
    "        * [2 Finite element method](#2-Finite-element-method)\n",
    "    \n",
    "    * [Results](#Results)\n",
    "    * [Discussion](#Discussion)\n",
    "    * [Conclussion](#Conclussion)\n",
    "* [Recommendation](#Recommendation)"
   ]
  },
  {
   "cell_type": "markdown",
   "metadata": {},
   "source": [
    "# Background..."
   ]
  },
  {
   "cell_type": "markdown",
   "metadata": {},
   "source": [
    "## Introduction to Computational Physics\n",
    "\n",
    "Computers have for many years played a vital role in the acquisition and treatment of experimental data, but they have more recently taken up a much more extended role in physics research. The numerical and algebraic calculations now performed on modern computers make it possible to explore consequences of basic theories in a way which goes beyond the limits of both analytic insight and experimental investigation. \n",
    "\n",
    "Historically,The birth of computational physics can be traced back to the late 1960s.Computational physics was the first application of modern computers in science, and is now a subset of computational science. It is sometimes regarded as a subdiscipline (or offshoot) of theoretical physics, but others consider it an intermediate branch between theoretical and experimental physics - an area of study which supplements both theory and experiment.\n",
    "Computational physics complements the areas of theory and experimentation in traditional scientific investigation. \n",
    "Areas of application include environmental modeling, nuclear cleanup, the design of materials, ground water transport, the nature of elementary particles, medical imaging, and energy management. A computational physicist understands not only the workings of computers and the relevant science and mathematics, but also how computer algorithms and simulations connect the two.\n",
    "\n",
    "**Computational physics is the study and implementation of numerical analysis to solve scientific problems using computational methods; it combines computer science, physics and applied mathematics to develop scientific solutions to complex problems.**\n",
    "In conclusion: Computational physics will allow you to tackle realistic problems in practically every field of science and engineering.\n",
    "\n"
   ]
  },
  {
   "cell_type": "markdown",
   "metadata": {},
   "source": [
    "## Task\n",
    "\n",
    "The aim is to solve the Schrödinger equation for a particle in a one-dimensional potential well using the finite difference method, a computational physics technique. To address a real-world problem that is challenging or impossible to solve using conventional analytical techniques, we are applying numerical techniques and computer programs."
   ]
  },
  {
   "cell_type": "markdown",
   "metadata": {},
   "source": [
    "## Objectives\n",
    "\n",
    "The main objective for this study is to gain a deeper understanding of computational physics and numerical methods, as well as to develop my skills in programming and using scientific computing tools such as NumPy and Matplotlib.\n",
    "\n",
    "Specifically, I **aim** to:\n",
    "\n",
    "#1 Understand the mathematical principles and concepts behind the Schrödinger equation and its numerical solutions.\n",
    "#2 Learn how to implement numerical methods and algorithms to solve the Schrödinger equation and other physical problems.\n",
    "#3 Develop my skills in programming with Python and using scientific computing tools such as NumPy, Matplotlib, Sympy, Pandas and etc.\n",
    "#4 Analyze and interpret the results of the simulations, and gain insights into the physical properties and behavior of the systems being studied.\n",
    "\n",
    "The goal is to use this project as an opportunity to deepen my understanding of computational physics and numerical methods, and to develop the skills and knowledge needed to tackle more complex problems in the field."
   ]
  },
  {
   "cell_type": "markdown",
   "metadata": {},
   "source": [
    "# Numerical solution of the Schrödinger equation"
   ]
  },
  {
   "cell_type": "markdown",
   "metadata": {},
   "source": [
    "### Finite Difference Method"
   ]
  },
  {
   "cell_type": "code",
   "execution_count": null,
   "metadata": {
    "vscode": {
     "languageId": "plaintext"
    }
   },
   "outputs": [],
   "source": []
  },
  {
   "cell_type": "markdown",
   "metadata": {},
   "source": [
    "## Results"
   ]
  },
  {
   "cell_type": "code",
   "execution_count": null,
   "metadata": {
    "vscode": {
     "languageId": "plaintext"
    }
   },
   "outputs": [],
   "source": []
  },
  {
   "cell_type": "markdown",
   "metadata": {},
   "source": [
    "## Discussion"
   ]
  },
  {
   "cell_type": "code",
   "execution_count": null,
   "metadata": {
    "vscode": {
     "languageId": "plaintext"
    }
   },
   "outputs": [],
   "source": []
  },
  {
   "cell_type": "markdown",
   "metadata": {},
   "source": [
    "## Conclussion"
   ]
  },
  {
   "cell_type": "code",
   "execution_count": null,
   "metadata": {
    "vscode": {
     "languageId": "plaintext"
    }
   },
   "outputs": [],
   "source": []
  },
  {
   "cell_type": "markdown",
   "metadata": {},
   "source": [
    "# Recommendation(s)"
   ]
  },
  {
   "cell_type": "code",
   "execution_count": null,
   "metadata": {
    "vscode": {
     "languageId": "plaintext"
    }
   },
   "outputs": [],
   "source": []
  }
 ],
 "metadata": {
  "kernelspec": {
   "display_name": "Python 3",
   "language": "python",
   "name": "python3"
  },
  "language_info": {
   "codemirror_mode": {
    "name": "ipython",
    "version": 3
   },
   "file_extension": ".py",
   "mimetype": "text/x-python",
   "name": "python",
   "nbconvert_exporter": "python",
   "pygments_lexer": "ipython3",
   "version": "3.8.3"
  }
 },
 "nbformat": 4,
 "nbformat_minor": 4
}
